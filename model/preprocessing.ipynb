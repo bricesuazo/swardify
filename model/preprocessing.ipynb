{
 "cells": [
  {
   "cell_type": "markdown",
   "metadata": {},
   "source": [
    "# Preprocessing of Dataset"
   ]
  },
  {
   "cell_type": "markdown",
   "metadata": {},
   "source": [
    "### Installing Dependencies"
   ]
  },
  {
   "cell_type": "code",
   "execution_count": 1,
   "metadata": {},
   "outputs": [
    {
     "name": "stdout",
     "output_type": "stream",
     "text": [
      "Requirement already satisfied: pandas in e:\\collaborative projects\\machine-translation-using-fine-tuned-pretrained\\env\\lib\\site-packages (2.2.2)\n",
      "Requirement already satisfied: scikit-learn in e:\\collaborative projects\\machine-translation-using-fine-tuned-pretrained\\env\\lib\\site-packages (1.4.2)\n",
      "Requirement already satisfied: numpy>=1.23.2 in e:\\collaborative projects\\machine-translation-using-fine-tuned-pretrained\\env\\lib\\site-packages (from pandas) (1.26.4)\n",
      "Requirement already satisfied: python-dateutil>=2.8.2 in e:\\collaborative projects\\machine-translation-using-fine-tuned-pretrained\\env\\lib\\site-packages (from pandas) (2.9.0.post0)\n",
      "Requirement already satisfied: pytz>=2020.1 in e:\\collaborative projects\\machine-translation-using-fine-tuned-pretrained\\env\\lib\\site-packages (from pandas) (2024.1)\n",
      "Requirement already satisfied: tzdata>=2022.7 in e:\\collaborative projects\\machine-translation-using-fine-tuned-pretrained\\env\\lib\\site-packages (from pandas) (2024.1)\n",
      "Requirement already satisfied: scipy>=1.6.0 in e:\\collaborative projects\\machine-translation-using-fine-tuned-pretrained\\env\\lib\\site-packages (from scikit-learn) (1.13.0)\n",
      "Requirement already satisfied: joblib>=1.2.0 in e:\\collaborative projects\\machine-translation-using-fine-tuned-pretrained\\env\\lib\\site-packages (from scikit-learn) (1.4.0)\n",
      "Requirement already satisfied: threadpoolctl>=2.0.0 in e:\\collaborative projects\\machine-translation-using-fine-tuned-pretrained\\env\\lib\\site-packages (from scikit-learn) (3.5.0)\n",
      "Requirement already satisfied: six>=1.5 in e:\\collaborative projects\\machine-translation-using-fine-tuned-pretrained\\env\\lib\\site-packages (from python-dateutil>=2.8.2->pandas) (1.16.0)\n",
      "Note: you may need to restart the kernel to use updated packages.\n"
     ]
    },
    {
     "name": "stderr",
     "output_type": "stream",
     "text": [
      "\n",
      "[notice] A new release of pip is available: 23.2.1 -> 24.0\n",
      "[notice] To update, run: python.exe -m pip install --upgrade pip\n"
     ]
    }
   ],
   "source": [
    "%pip install pandas scikit-learn"
   ]
  },
  {
   "cell_type": "code",
   "execution_count": 2,
   "metadata": {},
   "outputs": [
    {
     "name": "stdout",
     "output_type": "stream",
     "text": [
      "Note: you may need to restart the kernel to use updated packages.\n"
     ]
    },
    {
     "name": "stderr",
     "output_type": "stream",
     "text": [
      "ERROR: Could not find a version that satisfies the requirement pickle (from versions: none)\n",
      "ERROR: No matching distribution found for pickle\n",
      "\n",
      "[notice] A new release of pip is available: 23.2.1 -> 24.0\n",
      "[notice] To update, run: python.exe -m pip install --upgrade pip\n"
     ]
    }
   ],
   "source": [
    "%pip install pickle"
   ]
  },
  {
   "cell_type": "markdown",
   "metadata": {},
   "source": [
    "## Import the dependencies\n",
    "\n",
    "Import pandas for manipulating the dataset"
   ]
  },
  {
   "cell_type": "code",
   "execution_count": 3,
   "metadata": {},
   "outputs": [],
   "source": [
    "import pandas as pd"
   ]
  },
  {
   "cell_type": "markdown",
   "metadata": {},
   "source": [
    "## Read the csv datas"
   ]
  },
  {
   "cell_type": "code",
   "execution_count": 4,
   "metadata": {},
   "outputs": [],
   "source": [
    "vocab_raw_data = pd.read_csv(\"dataset/words_rows.csv\")"
   ]
  },
  {
   "cell_type": "code",
   "execution_count": 5,
   "metadata": {},
   "outputs": [],
   "source": [
    "phrases_raw_data = pd.read_csv(\"dataset/phrases_rows.csv\")"
   ]
  },
  {
   "cell_type": "markdown",
   "metadata": {},
   "source": [
    "#### Removes other unnecesary columns"
   ]
  },
  {
   "cell_type": "code",
   "execution_count": 6,
   "metadata": {},
   "outputs": [],
   "source": [
    "vocab = vocab_raw_data.drop([\"id\",\"created_at\", \"deleted_at\",\"updated_at\", \"word_contribution_id\",\"definition\",\"examples\",\"part_of_speech\"], axis=1)"
   ]
  },
  {
   "cell_type": "code",
   "execution_count": 7,
   "metadata": {},
   "outputs": [],
   "source": [
    "phrases = phrases_raw_data.drop([\"id\",\"created_at\", \"deleted_at\",\"updated_at\", \"phrase_contribution_id\"], axis=1)"
   ]
  },
  {
   "cell_type": "markdown",
   "metadata": {},
   "source": [
    "#### Making the word 1 to 1 in the column"
   ]
  },
  {
   "cell_type": "markdown",
   "metadata": {},
   "source": [
    "This section should be executed only once."
   ]
  },
  {
   "cell_type": "code",
   "execution_count": 8,
   "metadata": {},
   "outputs": [
    {
     "data": {
      "text/plain": [
       "['Fez', 'Peslock', 'Pesang']"
      ]
     },
     "execution_count": 8,
     "metadata": {},
     "output_type": "execute_result"
    }
   ],
   "source": [
    "vocab[\"swardspeak_words\"][0].replace(\"[\", \"\").replace(\"]\", \"\").replace('\"', \"\").rsplit(\",\")"
   ]
  },
  {
   "cell_type": "code",
   "execution_count": 9,
   "metadata": {},
   "outputs": [],
   "source": [
    "vocab[\"swardspeak_words\"]=vocab[\"swardspeak_words\"].apply(lambda row: row.replace(\"[\", \"\").replace(\"]\", \"\").replace('\"', \"\").split(\",\"))"
   ]
  },
  {
   "cell_type": "code",
   "execution_count": 10,
   "metadata": {},
   "outputs": [],
   "source": [
    "vocab[\"translated_words\"]=vocab[\"translated_words\"].apply(lambda row: row.replace(\"[\", \"\").replace(\"]\", \"\").replace('\"', \"\").split(\",\"))"
   ]
  },
  {
   "cell_type": "code",
   "execution_count": 11,
   "metadata": {},
   "outputs": [
    {
     "data": {
      "text/html": [
       "<div>\n",
       "<style scoped>\n",
       "    .dataframe tbody tr th:only-of-type {\n",
       "        vertical-align: middle;\n",
       "    }\n",
       "\n",
       "    .dataframe tbody tr th {\n",
       "        vertical-align: top;\n",
       "    }\n",
       "\n",
       "    .dataframe thead th {\n",
       "        text-align: right;\n",
       "    }\n",
       "</style>\n",
       "<table border=\"1\" class=\"dataframe\">\n",
       "  <thead>\n",
       "    <tr style=\"text-align: right;\">\n",
       "      <th></th>\n",
       "      <th>swardspeak_words</th>\n",
       "      <th>translated_words</th>\n",
       "    </tr>\n",
       "  </thead>\n",
       "  <tbody>\n",
       "    <tr>\n",
       "      <th>0</th>\n",
       "      <td>[Fez, Peslock, Pesang]</td>\n",
       "      <td>[Mukha]</td>\n",
       "    </tr>\n",
       "    <tr>\n",
       "      <th>1</th>\n",
       "      <td>[Bongga]</td>\n",
       "      <td>[Enggrande]</td>\n",
       "    </tr>\n",
       "    <tr>\n",
       "      <th>2</th>\n",
       "      <td>[Bugarou, Yosi]</td>\n",
       "      <td>[Sigarilyo]</td>\n",
       "    </tr>\n",
       "  </tbody>\n",
       "</table>\n",
       "</div>"
      ],
      "text/plain": [
       "         swardspeak_words translated_words\n",
       "0  [Fez, Peslock, Pesang]          [Mukha]\n",
       "1                [Bongga]      [Enggrande]\n",
       "2         [Bugarou, Yosi]      [Sigarilyo]"
      ]
     },
     "execution_count": 11,
     "metadata": {},
     "output_type": "execute_result"
    }
   ],
   "source": [
    "vocab.head(3)"
   ]
  },
  {
   "cell_type": "code",
   "execution_count": 12,
   "metadata": {},
   "outputs": [
    {
     "data": {
      "text/html": [
       "<div>\n",
       "<style scoped>\n",
       "    .dataframe tbody tr th:only-of-type {\n",
       "        vertical-align: middle;\n",
       "    }\n",
       "\n",
       "    .dataframe tbody tr th {\n",
       "        vertical-align: top;\n",
       "    }\n",
       "\n",
       "    .dataframe thead th {\n",
       "        text-align: right;\n",
       "    }\n",
       "</style>\n",
       "<table border=\"1\" class=\"dataframe\">\n",
       "  <thead>\n",
       "    <tr style=\"text-align: right;\">\n",
       "      <th></th>\n",
       "      <th>swardspeak_phrase</th>\n",
       "      <th>translated_phrase</th>\n",
       "    </tr>\n",
       "  </thead>\n",
       "  <tbody>\n",
       "    <tr>\n",
       "      <th>0</th>\n",
       "      <td>Holabels! May chova akis!</td>\n",
       "      <td>Hello! May chismis ako!</td>\n",
       "    </tr>\n",
       "    <tr>\n",
       "      <th>1</th>\n",
       "      <td>Hindi kami maka-gorabels ditey! Jumujulanis Mo...</td>\n",
       "      <td>Hindi kami makaalis dito! Umuulan nang malakas.</td>\n",
       "    </tr>\n",
       "    <tr>\n",
       "      <th>2</th>\n",
       "      <td>Nalotlot ang mga bagets dahil sila ay mga ate ...</td>\n",
       "      <td>Natalo ang mga bata dahil sila ay mga pangit a...</td>\n",
       "    </tr>\n",
       "  </tbody>\n",
       "</table>\n",
       "</div>"
      ],
      "text/plain": [
       "                                   swardspeak_phrase  \\\n",
       "0                          Holabels! May chova akis!   \n",
       "1  Hindi kami maka-gorabels ditey! Jumujulanis Mo...   \n",
       "2  Nalotlot ang mga bagets dahil sila ay mga ate ...   \n",
       "\n",
       "                                   translated_phrase  \n",
       "0                            Hello! May chismis ako!  \n",
       "1    Hindi kami makaalis dito! Umuulan nang malakas.  \n",
       "2  Natalo ang mga bata dahil sila ay mga pangit a...  "
      ]
     },
     "execution_count": 12,
     "metadata": {},
     "output_type": "execute_result"
    }
   ],
   "source": [
    "phrases.head(3)"
   ]
  },
  {
   "cell_type": "markdown",
   "metadata": {},
   "source": [
    "### Exploding the listed words"
   ]
  },
  {
   "cell_type": "code",
   "execution_count": 13,
   "metadata": {},
   "outputs": [],
   "source": [
    "vocab = vocab.explode(\"swardspeak_words\")"
   ]
  },
  {
   "cell_type": "code",
   "execution_count": 14,
   "metadata": {},
   "outputs": [],
   "source": [
    "vocab = vocab.explode(\"translated_words\")"
   ]
  },
  {
   "cell_type": "code",
   "execution_count": 15,
   "metadata": {},
   "outputs": [
    {
     "data": {
      "text/html": [
       "<div>\n",
       "<style scoped>\n",
       "    .dataframe tbody tr th:only-of-type {\n",
       "        vertical-align: middle;\n",
       "    }\n",
       "\n",
       "    .dataframe tbody tr th {\n",
       "        vertical-align: top;\n",
       "    }\n",
       "\n",
       "    .dataframe thead th {\n",
       "        text-align: right;\n",
       "    }\n",
       "</style>\n",
       "<table border=\"1\" class=\"dataframe\">\n",
       "  <thead>\n",
       "    <tr style=\"text-align: right;\">\n",
       "      <th></th>\n",
       "      <th>swardspeak_words</th>\n",
       "      <th>translated_words</th>\n",
       "    </tr>\n",
       "  </thead>\n",
       "  <tbody>\n",
       "    <tr>\n",
       "      <th>0</th>\n",
       "      <td>Fez</td>\n",
       "      <td>Mukha</td>\n",
       "    </tr>\n",
       "    <tr>\n",
       "      <th>0</th>\n",
       "      <td>Peslock</td>\n",
       "      <td>Mukha</td>\n",
       "    </tr>\n",
       "    <tr>\n",
       "      <th>0</th>\n",
       "      <td>Pesang</td>\n",
       "      <td>Mukha</td>\n",
       "    </tr>\n",
       "    <tr>\n",
       "      <th>1</th>\n",
       "      <td>Bongga</td>\n",
       "      <td>Enggrande</td>\n",
       "    </tr>\n",
       "    <tr>\n",
       "      <th>2</th>\n",
       "      <td>Bugarou</td>\n",
       "      <td>Sigarilyo</td>\n",
       "    </tr>\n",
       "    <tr>\n",
       "      <th>2</th>\n",
       "      <td>Yosi</td>\n",
       "      <td>Sigarilyo</td>\n",
       "    </tr>\n",
       "    <tr>\n",
       "      <th>3</th>\n",
       "      <td>Check</td>\n",
       "      <td>Okay</td>\n",
       "    </tr>\n",
       "    <tr>\n",
       "      <th>4</th>\n",
       "      <td>Chika</td>\n",
       "      <td>Tsismis</td>\n",
       "    </tr>\n",
       "    <tr>\n",
       "      <th>4</th>\n",
       "      <td>Chismaks</td>\n",
       "      <td>Tsismis</td>\n",
       "    </tr>\n",
       "    <tr>\n",
       "      <th>4</th>\n",
       "      <td>Chova</td>\n",
       "      <td>Tsismis</td>\n",
       "    </tr>\n",
       "  </tbody>\n",
       "</table>\n",
       "</div>"
      ],
      "text/plain": [
       "  swardspeak_words translated_words\n",
       "0              Fez            Mukha\n",
       "0          Peslock            Mukha\n",
       "0           Pesang            Mukha\n",
       "1           Bongga        Enggrande\n",
       "2          Bugarou        Sigarilyo\n",
       "2             Yosi        Sigarilyo\n",
       "3            Check             Okay\n",
       "4            Chika          Tsismis\n",
       "4         Chismaks          Tsismis\n",
       "4            Chova          Tsismis"
      ]
     },
     "execution_count": 15,
     "metadata": {},
     "output_type": "execute_result"
    }
   ],
   "source": [
    "vocab.head(10)"
   ]
  },
  {
   "cell_type": "markdown",
   "metadata": {},
   "source": [
    "## Combining the words and phrases in one DataFrame"
   ]
  },
  {
   "cell_type": "code",
   "execution_count": 16,
   "metadata": {},
   "outputs": [],
   "source": [
    "vocab.rename(columns = {'swardspeak_words':'input', 'translated_words':'output'}, inplace=True)"
   ]
  },
  {
   "cell_type": "code",
   "execution_count": 17,
   "metadata": {},
   "outputs": [],
   "source": [
    "phrases.rename(columns= {'swardspeak_phrase':'input', 'translated_phrase':'output'}, inplace=True)"
   ]
  },
  {
   "cell_type": "code",
   "execution_count": 18,
   "metadata": {},
   "outputs": [
    {
     "data": {
      "text/html": [
       "<div>\n",
       "<style scoped>\n",
       "    .dataframe tbody tr th:only-of-type {\n",
       "        vertical-align: middle;\n",
       "    }\n",
       "\n",
       "    .dataframe tbody tr th {\n",
       "        vertical-align: top;\n",
       "    }\n",
       "\n",
       "    .dataframe thead th {\n",
       "        text-align: right;\n",
       "    }\n",
       "</style>\n",
       "<table border=\"1\" class=\"dataframe\">\n",
       "  <thead>\n",
       "    <tr style=\"text-align: right;\">\n",
       "      <th></th>\n",
       "      <th>input</th>\n",
       "      <th>output</th>\n",
       "    </tr>\n",
       "  </thead>\n",
       "  <tbody>\n",
       "    <tr>\n",
       "      <th>0</th>\n",
       "      <td>Fez</td>\n",
       "      <td>Mukha</td>\n",
       "    </tr>\n",
       "    <tr>\n",
       "      <th>0</th>\n",
       "      <td>Peslock</td>\n",
       "      <td>Mukha</td>\n",
       "    </tr>\n",
       "    <tr>\n",
       "      <th>0</th>\n",
       "      <td>Pesang</td>\n",
       "      <td>Mukha</td>\n",
       "    </tr>\n",
       "    <tr>\n",
       "      <th>1</th>\n",
       "      <td>Bongga</td>\n",
       "      <td>Enggrande</td>\n",
       "    </tr>\n",
       "    <tr>\n",
       "      <th>2</th>\n",
       "      <td>Bugarou</td>\n",
       "      <td>Sigarilyo</td>\n",
       "    </tr>\n",
       "  </tbody>\n",
       "</table>\n",
       "</div>"
      ],
      "text/plain": [
       "     input     output\n",
       "0      Fez      Mukha\n",
       "0  Peslock      Mukha\n",
       "0   Pesang      Mukha\n",
       "1   Bongga  Enggrande\n",
       "2  Bugarou  Sigarilyo"
      ]
     },
     "execution_count": 18,
     "metadata": {},
     "output_type": "execute_result"
    }
   ],
   "source": [
    "vocab.head()"
   ]
  },
  {
   "cell_type": "code",
   "execution_count": 19,
   "metadata": {},
   "outputs": [
    {
     "data": {
      "text/html": [
       "<div>\n",
       "<style scoped>\n",
       "    .dataframe tbody tr th:only-of-type {\n",
       "        vertical-align: middle;\n",
       "    }\n",
       "\n",
       "    .dataframe tbody tr th {\n",
       "        vertical-align: top;\n",
       "    }\n",
       "\n",
       "    .dataframe thead th {\n",
       "        text-align: right;\n",
       "    }\n",
       "</style>\n",
       "<table border=\"1\" class=\"dataframe\">\n",
       "  <thead>\n",
       "    <tr style=\"text-align: right;\">\n",
       "      <th></th>\n",
       "      <th>input</th>\n",
       "      <th>output</th>\n",
       "    </tr>\n",
       "  </thead>\n",
       "  <tbody>\n",
       "    <tr>\n",
       "      <th>90</th>\n",
       "      <td>Pagkatapos nya maglangoy ay Miss Nigeria na sya</td>\n",
       "      <td>Pagkatapos nya maglangoy ay negra na sya</td>\n",
       "    </tr>\n",
       "    <tr>\n",
       "      <th>91</th>\n",
       "      <td>Oprah Winfrey, wiz na aketch magmomorayta</td>\n",
       "      <td>Pangako, hindi na ako magmumura</td>\n",
       "    </tr>\n",
       "    <tr>\n",
       "      <th>92</th>\n",
       "      <td>Quality Control ka naman, Pranella ka lang!</td>\n",
       "      <td>Maganda ka naman, praning ka lang!</td>\n",
       "    </tr>\n",
       "    <tr>\n",
       "      <th>93</th>\n",
       "      <td>Nag-crayola si Shokla nung naJulie Yap syang n...</td>\n",
       "      <td>Umiyak si bakla nung nahuli syang nagloloko</td>\n",
       "    </tr>\n",
       "    <tr>\n",
       "      <th>94</th>\n",
       "      <td>Alicia Mayer na tayo, andyan na ang Drivam ng ...</td>\n",
       "      <td>Aalis na tayo, andyan na ang driver ng ating s...</td>\n",
       "    </tr>\n",
       "  </tbody>\n",
       "</table>\n",
       "</div>"
      ],
      "text/plain": [
       "                                                input  \\\n",
       "90    Pagkatapos nya maglangoy ay Miss Nigeria na sya   \n",
       "91          Oprah Winfrey, wiz na aketch magmomorayta   \n",
       "92        Quality Control ka naman, Pranella ka lang!   \n",
       "93  Nag-crayola si Shokla nung naJulie Yap syang n...   \n",
       "94  Alicia Mayer na tayo, andyan na ang Drivam ng ...   \n",
       "\n",
       "                                               output  \n",
       "90           Pagkatapos nya maglangoy ay negra na sya  \n",
       "91                    Pangako, hindi na ako magmumura  \n",
       "92                 Maganda ka naman, praning ka lang!  \n",
       "93        Umiyak si bakla nung nahuli syang nagloloko  \n",
       "94  Aalis na tayo, andyan na ang driver ng ating s...  "
      ]
     },
     "execution_count": 19,
     "metadata": {},
     "output_type": "execute_result"
    }
   ],
   "source": [
    "phrases.tail()"
   ]
  },
  {
   "cell_type": "code",
   "execution_count": 20,
   "metadata": {},
   "outputs": [],
   "source": [
    "combined = pd.concat([vocab, phrases])"
   ]
  },
  {
   "cell_type": "code",
   "execution_count": 21,
   "metadata": {},
   "outputs": [],
   "source": [
    "combined.reset_index(inplace=True, drop=True)"
   ]
  },
  {
   "cell_type": "code",
   "execution_count": 22,
   "metadata": {},
   "outputs": [
    {
     "data": {
      "text/html": [
       "<div>\n",
       "<style scoped>\n",
       "    .dataframe tbody tr th:only-of-type {\n",
       "        vertical-align: middle;\n",
       "    }\n",
       "\n",
       "    .dataframe tbody tr th {\n",
       "        vertical-align: top;\n",
       "    }\n",
       "\n",
       "    .dataframe thead th {\n",
       "        text-align: right;\n",
       "    }\n",
       "</style>\n",
       "<table border=\"1\" class=\"dataframe\">\n",
       "  <thead>\n",
       "    <tr style=\"text-align: right;\">\n",
       "      <th></th>\n",
       "      <th>input</th>\n",
       "      <th>output</th>\n",
       "    </tr>\n",
       "  </thead>\n",
       "  <tbody>\n",
       "    <tr>\n",
       "      <th>0</th>\n",
       "      <td>Fez</td>\n",
       "      <td>Mukha</td>\n",
       "    </tr>\n",
       "    <tr>\n",
       "      <th>1</th>\n",
       "      <td>Peslock</td>\n",
       "      <td>Mukha</td>\n",
       "    </tr>\n",
       "    <tr>\n",
       "      <th>2</th>\n",
       "      <td>Pesang</td>\n",
       "      <td>Mukha</td>\n",
       "    </tr>\n",
       "    <tr>\n",
       "      <th>3</th>\n",
       "      <td>Bongga</td>\n",
       "      <td>Enggrande</td>\n",
       "    </tr>\n",
       "    <tr>\n",
       "      <th>4</th>\n",
       "      <td>Bugarou</td>\n",
       "      <td>Sigarilyo</td>\n",
       "    </tr>\n",
       "  </tbody>\n",
       "</table>\n",
       "</div>"
      ],
      "text/plain": [
       "     input     output\n",
       "0      Fez      Mukha\n",
       "1  Peslock      Mukha\n",
       "2   Pesang      Mukha\n",
       "3   Bongga  Enggrande\n",
       "4  Bugarou  Sigarilyo"
      ]
     },
     "execution_count": 22,
     "metadata": {},
     "output_type": "execute_result"
    }
   ],
   "source": [
    "combined.head()"
   ]
  },
  {
   "cell_type": "code",
   "execution_count": 23,
   "metadata": {},
   "outputs": [
    {
     "name": "stdout",
     "output_type": "stream",
     "text": [
      "<class 'pandas.core.frame.DataFrame'>\n",
      "RangeIndex: 652 entries, 0 to 651\n",
      "Data columns (total 2 columns):\n",
      " #   Column  Non-Null Count  Dtype \n",
      "---  ------  --------------  ----- \n",
      " 0   input   652 non-null    object\n",
      " 1   output  652 non-null    object\n",
      "dtypes: object(2)\n",
      "memory usage: 10.3+ KB\n"
     ]
    }
   ],
   "source": [
    "combined.info()"
   ]
  },
  {
   "cell_type": "code",
   "execution_count": 24,
   "metadata": {},
   "outputs": [
    {
     "data": {
      "text/html": [
       "<div>\n",
       "<style scoped>\n",
       "    .dataframe tbody tr th:only-of-type {\n",
       "        vertical-align: middle;\n",
       "    }\n",
       "\n",
       "    .dataframe tbody tr th {\n",
       "        vertical-align: top;\n",
       "    }\n",
       "\n",
       "    .dataframe thead th {\n",
       "        text-align: right;\n",
       "    }\n",
       "</style>\n",
       "<table border=\"1\" class=\"dataframe\">\n",
       "  <thead>\n",
       "    <tr style=\"text-align: right;\">\n",
       "      <th></th>\n",
       "      <th>input</th>\n",
       "      <th>output</th>\n",
       "    </tr>\n",
       "  </thead>\n",
       "  <tbody>\n",
       "    <tr>\n",
       "      <th>593</th>\n",
       "      <td>uso ang Ismelanie Marques na putok ngayong pan...</td>\n",
       "      <td>Uso ang amoy putok ngayong panahon ng tag-init</td>\n",
       "    </tr>\n",
       "    <tr>\n",
       "      <th>261</th>\n",
       "      <td>Ate Chona</td>\n",
       "      <td>Maattitude</td>\n",
       "    </tr>\n",
       "    <tr>\n",
       "      <th>59</th>\n",
       "      <td>Jotabelz</td>\n",
       "      <td>Bata</td>\n",
       "    </tr>\n",
       "    <tr>\n",
       "      <th>400</th>\n",
       "      <td>Awra</td>\n",
       "      <td>Umani ng atensyon</td>\n",
       "    </tr>\n",
       "    <tr>\n",
       "      <th>610</th>\n",
       "      <td>Ang lakas ng Julanis</td>\n",
       "      <td>Ang lakas ng ulan</td>\n",
       "    </tr>\n",
       "    <tr>\n",
       "      <th>...</th>\n",
       "      <td>...</td>\n",
       "      <td>...</td>\n",
       "    </tr>\n",
       "    <tr>\n",
       "      <th>105</th>\n",
       "      <td>Tomo</td>\n",
       "      <td>Tama</td>\n",
       "    </tr>\n",
       "    <tr>\n",
       "      <th>152</th>\n",
       "      <td>Wafu</td>\n",
       "      <td>Gwapo</td>\n",
       "    </tr>\n",
       "    <tr>\n",
       "      <th>492</th>\n",
       "      <td>Chikadora</td>\n",
       "      <td>Tsismosa</td>\n",
       "    </tr>\n",
       "    <tr>\n",
       "      <th>548</th>\n",
       "      <td>Gora</td>\n",
       "      <td>Alis</td>\n",
       "    </tr>\n",
       "    <tr>\n",
       "      <th>201</th>\n",
       "      <td>Sandara Park</td>\n",
       "      <td>Maaraw</td>\n",
       "    </tr>\n",
       "  </tbody>\n",
       "</table>\n",
       "<p>652 rows × 2 columns</p>\n",
       "</div>"
      ],
      "text/plain": [
       "                                                 input  \\\n",
       "593  uso ang Ismelanie Marques na putok ngayong pan...   \n",
       "261                                          Ate Chona   \n",
       "59                                            Jotabelz   \n",
       "400                                               Awra   \n",
       "610                               Ang lakas ng Julanis   \n",
       "..                                                 ...   \n",
       "105                                               Tomo   \n",
       "152                                               Wafu   \n",
       "492                                          Chikadora   \n",
       "548                                               Gora   \n",
       "201                                       Sandara Park   \n",
       "\n",
       "                                             output  \n",
       "593  Uso ang amoy putok ngayong panahon ng tag-init  \n",
       "261                                      Maattitude  \n",
       "59                                             Bata  \n",
       "400                               Umani ng atensyon  \n",
       "610                               Ang lakas ng ulan  \n",
       "..                                              ...  \n",
       "105                                            Tama  \n",
       "152                                           Gwapo  \n",
       "492                                        Tsismosa  \n",
       "548                                            Alis  \n",
       "201                                          Maaraw  \n",
       "\n",
       "[652 rows x 2 columns]"
      ]
     },
     "execution_count": 24,
     "metadata": {},
     "output_type": "execute_result"
    }
   ],
   "source": [
    "combined.sample(frac=1)"
   ]
  },
  {
   "cell_type": "markdown",
   "metadata": {},
   "source": [
    "### Adding column for instruction"
   ]
  },
  {
   "cell_type": "code",
   "execution_count": 25,
   "metadata": {},
   "outputs": [],
   "source": [
    "combined['instruction'] = \"Translate the following words or phrases from Swardspeak to Tagalog:\""
   ]
  },
  {
   "cell_type": "code",
   "execution_count": 26,
   "metadata": {},
   "outputs": [
    {
     "data": {
      "text/html": [
       "<div>\n",
       "<style scoped>\n",
       "    .dataframe tbody tr th:only-of-type {\n",
       "        vertical-align: middle;\n",
       "    }\n",
       "\n",
       "    .dataframe tbody tr th {\n",
       "        vertical-align: top;\n",
       "    }\n",
       "\n",
       "    .dataframe thead th {\n",
       "        text-align: right;\n",
       "    }\n",
       "</style>\n",
       "<table border=\"1\" class=\"dataframe\">\n",
       "  <thead>\n",
       "    <tr style=\"text-align: right;\">\n",
       "      <th></th>\n",
       "      <th>input</th>\n",
       "      <th>output</th>\n",
       "      <th>instruction</th>\n",
       "    </tr>\n",
       "  </thead>\n",
       "  <tbody>\n",
       "    <tr>\n",
       "      <th>0</th>\n",
       "      <td>Fez</td>\n",
       "      <td>Mukha</td>\n",
       "      <td>Translate the following words or phrases from ...</td>\n",
       "    </tr>\n",
       "    <tr>\n",
       "      <th>1</th>\n",
       "      <td>Peslock</td>\n",
       "      <td>Mukha</td>\n",
       "      <td>Translate the following words or phrases from ...</td>\n",
       "    </tr>\n",
       "  </tbody>\n",
       "</table>\n",
       "</div>"
      ],
      "text/plain": [
       "     input output                                        instruction\n",
       "0      Fez  Mukha  Translate the following words or phrases from ...\n",
       "1  Peslock  Mukha  Translate the following words or phrases from ..."
      ]
     },
     "execution_count": 26,
     "metadata": {},
     "output_type": "execute_result"
    }
   ],
   "source": [
    "combined.head(2)"
   ]
  },
  {
   "cell_type": "code",
   "execution_count": 27,
   "metadata": {},
   "outputs": [],
   "source": [
    "combined_lowercased = combined.copy()\n",
    "\n",
    "combined_lowercased['input'] = combined_lowercased['input'].str.lower()\n",
    "combined_lowercased['output'] = combined_lowercased['output'].str.lower()\n"
   ]
  },
  {
   "cell_type": "code",
   "execution_count": 28,
   "metadata": {},
   "outputs": [],
   "source": [
    "combined_reversed = combined.copy()"
   ]
  },
  {
   "cell_type": "code",
   "execution_count": 29,
   "metadata": {},
   "outputs": [],
   "source": [
    "combined_reversed['input'], combined_reversed['output'] = combined_reversed['output'], combined_reversed['input']"
   ]
  },
  {
   "cell_type": "code",
   "execution_count": 30,
   "metadata": {},
   "outputs": [],
   "source": [
    "combined_reversed_lowercased = combined_reversed.copy()\n",
    "\n",
    "combined_reversed_lowercased['input'] = combined_reversed_lowercased['input'].str.lower()\n",
    "combined_reversed_lowercased['output'] = combined_reversed_lowercased['output'].str.lower()"
   ]
  },
  {
   "cell_type": "code",
   "execution_count": 31,
   "metadata": {},
   "outputs": [],
   "source": [
    "combined_reversed['instruction'] = \"Translate the following words or phrases from Tagalog to Swardspeak:\""
   ]
  },
  {
   "cell_type": "code",
   "execution_count": 32,
   "metadata": {},
   "outputs": [
    {
     "name": "stdout",
     "output_type": "stream",
     "text": [
      "<class 'pandas.core.frame.DataFrame'>\n",
      "RangeIndex: 652 entries, 0 to 651\n",
      "Data columns (total 3 columns):\n",
      " #   Column       Non-Null Count  Dtype \n",
      "---  ------       --------------  ----- \n",
      " 0   input        652 non-null    object\n",
      " 1   output       652 non-null    object\n",
      " 2   instruction  652 non-null    object\n",
      "dtypes: object(3)\n",
      "memory usage: 15.4+ KB\n"
     ]
    }
   ],
   "source": [
    "combined.info()"
   ]
  },
  {
   "cell_type": "code",
   "execution_count": 33,
   "metadata": {},
   "outputs": [
    {
     "name": "stdout",
     "output_type": "stream",
     "text": [
      "<class 'pandas.core.frame.DataFrame'>\n",
      "RangeIndex: 652 entries, 0 to 651\n",
      "Data columns (total 3 columns):\n",
      " #   Column       Non-Null Count  Dtype \n",
      "---  ------       --------------  ----- \n",
      " 0   input        652 non-null    object\n",
      " 1   output       652 non-null    object\n",
      " 2   instruction  652 non-null    object\n",
      "dtypes: object(3)\n",
      "memory usage: 15.4+ KB\n"
     ]
    }
   ],
   "source": [
    "combined_reversed.info()"
   ]
  },
  {
   "cell_type": "code",
   "execution_count": 34,
   "metadata": {},
   "outputs": [],
   "source": [
    "dataset = pd.concat([combined, combined_lowercased, combined_reversed,  combined_reversed_lowercased])"
   ]
  },
  {
   "cell_type": "code",
   "execution_count": 35,
   "metadata": {},
   "outputs": [],
   "source": [
    "dataset.reset_index(inplace=True, drop=True)"
   ]
  },
  {
   "cell_type": "code",
   "execution_count": 36,
   "metadata": {},
   "outputs": [
    {
     "name": "stdout",
     "output_type": "stream",
     "text": [
      "<class 'pandas.core.frame.DataFrame'>\n",
      "RangeIndex: 2608 entries, 0 to 2607\n",
      "Data columns (total 3 columns):\n",
      " #   Column       Non-Null Count  Dtype \n",
      "---  ------       --------------  ----- \n",
      " 0   input        2608 non-null   object\n",
      " 1   output       2608 non-null   object\n",
      " 2   instruction  2608 non-null   object\n",
      "dtypes: object(3)\n",
      "memory usage: 61.3+ KB\n"
     ]
    }
   ],
   "source": [
    "dataset.info()"
   ]
  },
  {
   "cell_type": "code",
   "execution_count": 45,
   "metadata": {},
   "outputs": [],
   "source": [
    "dataset = dataset.sample(frac=1)"
   ]
  },
  {
   "cell_type": "code",
   "execution_count": 47,
   "metadata": {},
   "outputs": [],
   "source": [
    "dataset.reset_index(inplace=True, drop=True)"
   ]
  },
  {
   "cell_type": "code",
   "execution_count": 48,
   "metadata": {},
   "outputs": [
    {
     "data": {
      "text/html": [
       "<div>\n",
       "<style scoped>\n",
       "    .dataframe tbody tr th:only-of-type {\n",
       "        vertical-align: middle;\n",
       "    }\n",
       "\n",
       "    .dataframe tbody tr th {\n",
       "        vertical-align: top;\n",
       "    }\n",
       "\n",
       "    .dataframe thead th {\n",
       "        text-align: right;\n",
       "    }\n",
       "</style>\n",
       "<table border=\"1\" class=\"dataframe\">\n",
       "  <thead>\n",
       "    <tr style=\"text-align: right;\">\n",
       "      <th></th>\n",
       "      <th>input</th>\n",
       "      <th>output</th>\n",
       "      <th>instruction</th>\n",
       "    </tr>\n",
       "  </thead>\n",
       "  <tbody>\n",
       "    <tr>\n",
       "      <th>2603</th>\n",
       "      <td>buntis</td>\n",
       "      <td>jontis</td>\n",
       "      <td>Translate the following words or phrases from ...</td>\n",
       "    </tr>\n",
       "    <tr>\n",
       "      <th>2604</th>\n",
       "      <td>chikadora</td>\n",
       "      <td>tsismosa</td>\n",
       "      <td>Translate the following words or phrases from ...</td>\n",
       "    </tr>\n",
       "    <tr>\n",
       "      <th>2605</th>\n",
       "      <td>Splok</td>\n",
       "      <td>Magsalita</td>\n",
       "      <td>Translate the following words or phrases from ...</td>\n",
       "    </tr>\n",
       "    <tr>\n",
       "      <th>2606</th>\n",
       "      <td>Kaloka</td>\n",
       "      <td>Kalurkey</td>\n",
       "      <td>Translate the following words or phrases from ...</td>\n",
       "    </tr>\n",
       "    <tr>\n",
       "      <th>2607</th>\n",
       "      <td>insecure</td>\n",
       "      <td>insekyora</td>\n",
       "      <td>Translate the following words or phrases from ...</td>\n",
       "    </tr>\n",
       "  </tbody>\n",
       "</table>\n",
       "</div>"
      ],
      "text/plain": [
       "          input     output                                        instruction\n",
       "2603     buntis     jontis  Translate the following words or phrases from ...\n",
       "2604  chikadora   tsismosa  Translate the following words or phrases from ...\n",
       "2605      Splok  Magsalita  Translate the following words or phrases from ...\n",
       "2606     Kaloka   Kalurkey  Translate the following words or phrases from ...\n",
       "2607   insecure  insekyora  Translate the following words or phrases from ..."
      ]
     },
     "execution_count": 48,
     "metadata": {},
     "output_type": "execute_result"
    }
   ],
   "source": [
    "dataset.tail()"
   ]
  },
  {
   "cell_type": "code",
   "execution_count": null,
   "metadata": {},
   "outputs": [],
   "source": [
    "dataset.to_json(\"dataset/swardspeak_tagalog_dataset.json\", orient=\"records\")"
   ]
  },
  {
   "cell_type": "markdown",
   "metadata": {},
   "source": [
    "## Splitting the Dataset"
   ]
  },
  {
   "cell_type": "code",
   "execution_count": 49,
   "metadata": {},
   "outputs": [],
   "source": [
    "from sklearn.model_selection import train_test_split"
   ]
  },
  {
   "cell_type": "code",
   "execution_count": 52,
   "metadata": {},
   "outputs": [],
   "source": [
    "train, test = train_test_split(dataset, test_size=0.1)\n",
    "_, validation = train_test_split(train, test_size=0.1)"
   ]
  },
  {
   "cell_type": "code",
   "execution_count": 53,
   "metadata": {},
   "outputs": [],
   "source": [
    "train.to_json(\"dataset/train.json\", orient=\"records\")\n",
    "test.to_json(\"dataset/test.json\", orient=\"records\")\n",
    "validation.to_json(\"dataset/validation.json\", orient=\"records\")"
   ]
  },
  {
   "cell_type": "code",
   "execution_count": null,
   "metadata": {},
   "outputs": [],
   "source": [
    "import pandas as pd\n",
    "from sklearn.model_selection import train_test_split\n",
    "\n",
    "\n",
    "def create_dataset():\n",
    "    vocab_raw_data = pd.read_csv(\"dataset/words_rows.csv\")\n",
    "    phrases_raw_data = pd.read_csv(\"dataset/phrases_rows.csv\")\n",
    "\n",
    "    # Dropping unnecessary columns\n",
    "    vocab = vocab_raw_data.drop([\"id\",\"created_at\", \"deleted_at\",\"updated_at\", \"word_contribution_id\",\"definition\",\"examples\",\"part_of_speech\"], axis=1)\n",
    "    phrases = phrases_raw_data.drop([\"id\",\"created_at\", \"deleted_at\",\"updated_at\", \"phrase_contribution_id\"], axis=1)\n",
    "\n",
    "    # Splitting the words and phrases\n",
    "    vocab[\"swardspeak_words\"]=vocab[\"swardspeak_words\"].apply(lambda row: row.replace(\"[\", \"\").replace(\"]\", \"\").replace('\"', \"\").split(\",\"))\n",
    "    vocab[\"translated_words\"]=vocab[\"translated_words\"].apply(lambda row: row.replace(\"[\", \"\").replace(\"]\", \"\").replace('\"', \"\").split(\",\"))\n",
    "\n",
    "    # Exploding the words and phrases\n",
    "    vocab = vocab.explode(\"swardspeak_words\")\n",
    "    vocab = vocab.explode(\"translated_words\")\n",
    "\n",
    "    # Renaming the columns\n",
    "    vocab.rename(columns = {'swardspeak_words':'input', 'translated_words':'output'}, inplace=True)\n",
    "    phrases.rename(columns= {'swardspeak_phrase':'input', 'translated_phrase':'output'}, inplace=True)\n",
    "\n",
    "    # Combining the vocab and phrases\n",
    "    combined = pd.concat([vocab, phrases])\n",
    "    # combined.reset_index(inplace=True, drop=True)\n",
    "\n",
    "    # Adding instruction column\n",
    "    combined['instruction'] = \"Translate the following words or phrases from Swardspeak to Tagalog:\"\n",
    "    # Creating a lowercased version of the dataset\n",
    "    combined_lowercased = combined.copy()\n",
    "    combined_lowercased['input'] = combined_lowercased['input'].str.lower()\n",
    "    combined_lowercased['output'] = combined_lowercased['output'].str.lower()\n",
    "    \n",
    "    # Then reversing the input and output columns\n",
    "    # For the reversed dataset\n",
    "    combined_reversed = combined.copy()\n",
    "    combined_reversed['input'], combined_reversed['output'] = combined_reversed['output'], combined_reversed['input']\n",
    "    \n",
    "    # Creating a lowercased version of the reversed dataset\n",
    "    combined_reversed_lowercased = combined_reversed.copy()\n",
    "    combined_reversed_lowercased['input'] = combined_reversed_lowercased['input'].str.lower()\n",
    "    combined_reversed_lowercased['output'] = combined_reversed_lowercased['output'].str.lower()\n",
    "    # Finally, adding the instruction column for the reversed dataset\n",
    "    combined_reversed['instruction'] = \"Translate the following words or phrases from Tagalog to Swardspeak:\"\n",
    "    # Combining all the datasets\n",
    "    dataset = pd.concat([combined, combined_lowercased, combined_reversed,  combined_reversed_lowercased])\n",
    "    # dataset.reset_index(inplace=True, drop=True)\n",
    "\n",
    "    dataset = dataset.sample(frac=1)\n",
    "    dataset.reset_index(inplace=True, drop=True)\n",
    "\n",
    "    # Splitting the dataset into train, test, and validation sets\n",
    "    train, test = train_test_split(dataset, test_size=0.1)\n",
    "    _, validation = train_test_split(train, test_size=0.1)\n",
    "\n",
    "    return train, test, validation"
   ]
  },
  {
   "cell_type": "code",
   "execution_count": null,
   "metadata": {},
   "outputs": [],
   "source": []
  }
 ],
 "metadata": {
  "kernelspec": {
   "display_name": "env",
   "language": "python",
   "name": "python3"
  },
  "language_info": {
   "codemirror_mode": {
    "name": "ipython",
    "version": 3
   },
   "file_extension": ".py",
   "mimetype": "text/x-python",
   "name": "python",
   "nbconvert_exporter": "python",
   "pygments_lexer": "ipython3",
   "version": "3.11.5"
  }
 },
 "nbformat": 4,
 "nbformat_minor": 2
}
